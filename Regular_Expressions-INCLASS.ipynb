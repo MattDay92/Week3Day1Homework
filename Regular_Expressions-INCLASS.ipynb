{
 "cells": [
  {
   "cell_type": "markdown",
   "metadata": {},
   "source": [
    "# Regular Expressions"
   ]
  },
  {
   "cell_type": "markdown",
   "metadata": {},
   "source": [
    "# Tasks today:\n",
    "1) <b>Importing</b> <br>\n",
    "2) <b>Using Regular Expressions</b> <br>\n",
    " &nbsp;&nbsp;&nbsp;&nbsp; a) re.compile() <br>\n",
    " &nbsp;&nbsp;&nbsp;&nbsp; b) re.match() <br>\n",
    " &nbsp;&nbsp;&nbsp;&nbsp; c) re.findall() <br>\n",
    " &nbsp;&nbsp;&nbsp;&nbsp; d) re.search() <br>\n",
    "3) <b>Sets</b> <br>\n",
    " &nbsp;&nbsp;&nbsp;&nbsp; a) Integer Ranges <br>\n",
    " &nbsp;&nbsp;&nbsp;&nbsp; b) Character Ranges <br>\n",
    "4) <b>Counting Occurences</b> <br>\n",
    " &nbsp;&nbsp;&nbsp;&nbsp; a) {x} <br>\n",
    " &nbsp;&nbsp;&nbsp;&nbsp; b) {, x} <br>\n",
    " &nbsp;&nbsp;&nbsp;&nbsp; c) {?} <br>\n",
    " &nbsp;&nbsp;&nbsp;&nbsp; d) {*} <br>\n",
    " &nbsp;&nbsp;&nbsp;&nbsp; e) {+} <br>\n",
    "5) <b>In-Class Exercise #1</b> <br>\n",
    "6) <b>Escaping Characters</b> <br>\n",
    "7) <b>Grouping</b> <br>\n",
    "8) <b>In-Class Exercise #2</b> <br>\n",
    "9) <b>Opening a File</b> <br>\n",
    " &nbsp;&nbsp;&nbsp;&nbsp; a) open() <br>\n",
    " &nbsp;&nbsp;&nbsp;&nbsp; b) with open() <br>\n",
    " &nbsp;&nbsp;&nbsp;&nbsp; c) re.match() <br>\n",
    " &nbsp;&nbsp;&nbsp;&nbsp; d) re.search() <br>\n",
    " &nbsp;&nbsp;&nbsp;&nbsp; e) Store the String in a Variable <br>\n",
    "10) <b>Regex Project</b> <br>"
   ]
  },
  {
   "cell_type": "markdown",
   "metadata": {},
   "source": [
    "### Importing <br>\n",
    "<p>Regular Expressions are universal throughout most programming languages... They are generally imported through the module 're'.</p>"
   ]
  },
  {
   "cell_type": "code",
   "execution_count": 52,
   "metadata": {},
   "outputs": [],
   "source": [
    "# Built into Python package\n",
    "# import re\n",
    "import re"
   ]
  },
  {
   "cell_type": "markdown",
   "metadata": {},
   "source": [
    "### Using Regular Expressions <br>\n",
    "<p>Regular expressions give us the ability to search for patterns within text, strings, files, etc. They serve several uses, such as; security measures, searching, filtering, pattern recognition, and more...</p>"
   ]
  },
  {
   "cell_type": "markdown",
   "metadata": {},
   "source": [
    "##### re.compile()"
   ]
  },
  {
   "cell_type": "code",
   "execution_count": 8,
   "metadata": {},
   "outputs": [
    {
     "name": "stdout",
     "output_type": "stream",
     "text": [
      "<class 're.Pattern'>\n"
     ]
    }
   ],
   "source": [
    "# using compile, predetermines the string to be used in regular expression methods\n",
    "# Tells us what pattern we're looking for\n",
    "pattern = re.compile('abc')\n",
    "\n",
    "print(type(pattern))"
   ]
  },
  {
   "cell_type": "markdown",
   "metadata": {},
   "source": [
    "##### re.match()"
   ]
  },
  {
   "cell_type": "code",
   "execution_count": 11,
   "metadata": {},
   "outputs": [
    {
     "name": "stdout",
     "output_type": "stream",
     "text": [
      "<re.Match object; span=(0, 3), match='abc'>\n",
      "(0, 3)\n"
     ]
    }
   ],
   "source": [
    "match = pattern.match('abcd1234')\n",
    "print(match)\n",
    "\n",
    "print(match.span())\n",
    "# Provides a tuple of beginning of match to end of match\n",
    "\n",
    "# .match only finds matches if they are at the beginning of a string"
   ]
  },
  {
   "cell_type": "markdown",
   "metadata": {},
   "source": [
    "##### re.findall()"
   ]
  },
  {
   "cell_type": "code",
   "execution_count": 16,
   "metadata": {},
   "outputs": [
    {
     "name": "stdout",
     "output_type": "stream",
     "text": [
      "['abc', 'abc', 'abc', 'abc']\n"
     ]
    }
   ],
   "source": [
    "# searches through the entire string for all of the matches\n",
    "\n",
    "found = pattern.findall('abcd 123 abc abab abcabc')\n",
    "print(found)"
   ]
  },
  {
   "cell_type": "markdown",
   "metadata": {},
   "source": [
    "##### re.search()"
   ]
  },
  {
   "cell_type": "code",
   "execution_count": 17,
   "metadata": {},
   "outputs": [
    {
     "name": "stdout",
     "output_type": "stream",
     "text": [
      "<re.Match object; span=(3, 6), match='abc'>\n",
      "(3, 6)\n"
     ]
    }
   ],
   "source": [
    "match = pattern.search('123abcd1234')\n",
    "print(match)\n",
    "\n",
    "print(match.span())\n",
    "\n",
    "# Traverses the entire string looking for matches"
   ]
  },
  {
   "cell_type": "markdown",
   "metadata": {},
   "source": [
    "### Sets <br>\n",
    "<p>The following cells will allow you to use regular expressions to search for certain values within a range such as numbers 1 through 4.</p>"
   ]
  },
  {
   "cell_type": "markdown",
   "metadata": {},
   "source": [
    "##### [a-z] or [A-Z] - any lowercase/uppercase letters from a to z<br/>[^2] - anything that's not 2"
   ]
  },
  {
   "cell_type": "markdown",
   "metadata": {},
   "source": [
    "##### Integer Ranges"
   ]
  },
  {
   "cell_type": "code",
   "execution_count": 18,
   "metadata": {},
   "outputs": [
    {
     "name": "stdout",
     "output_type": "stream",
     "text": [
      "<re.Match object; span=(15, 20), match='91801'>\n"
     ]
    }
   ],
   "source": [
    "# sets are denoted with square brackets\n",
    "\n",
    "# looking for 91801, 91802, 91803, 91804, 91805, or 91806\n",
    "int_pat = re.compile('9180[1-6]')\n",
    "# can do this with any number\n",
    "\n",
    "match = int_pat.search('12461742106519591801748310473218940371')\n",
    "\n",
    "print(match)"
   ]
  },
  {
   "cell_type": "code",
   "execution_count": 23,
   "metadata": {},
   "outputs": [
    {
     "name": "stdout",
     "output_type": "stream",
     "text": [
      "<re.Match object; span=(3, 6), match='812'>\n",
      "['812', '312', '513', '915', '105', '914', '914']\n"
     ]
    }
   ],
   "source": [
    "int_pat2 = re.compile('[0-9][0-1][1-6]')\n",
    "numbers = '43781295312513829153-271853-1658392105038291463721849362174832914'\n",
    "\n",
    "match = int_pat2.search(numbers)\n",
    "\n",
    "print(match)\n",
    "print(int_pat2.findall(numbers))\n",
    "\n",
    "# find all will not reuse numbers - once they're been used in a pattern, they're done.  "
   ]
  },
  {
   "cell_type": "markdown",
   "metadata": {},
   "source": [
    "##### Character Ranges"
   ]
  },
  {
   "cell_type": "code",
   "execution_count": 27,
   "metadata": {},
   "outputs": [
    {
     "name": "stdout",
     "output_type": "stream",
     "text": [
      "['Le', 'Ja']\n"
     ]
    }
   ],
   "source": [
    "char_pat = re.compile('[A-Z][a-f]')\n",
    "# looking for a capital letter followed by a lowercase from a to f\n",
    "\n",
    "names = 'LeBron James Jr.'\n",
    "\n",
    "print(char_pat.findall(names))"
   ]
  },
  {
   "cell_type": "markdown",
   "metadata": {},
   "source": [
    "### Counting Occurences"
   ]
  },
  {
   "cell_type": "markdown",
   "metadata": {},
   "source": [
    "##### {x} - something that occurs {num_of_times}"
   ]
  },
  {
   "cell_type": "code",
   "execution_count": 28,
   "metadata": {},
   "outputs": [
    {
     "name": "stdout",
     "output_type": "stream",
     "text": [
      "['Bron', 'Jame']\n"
     ]
    }
   ],
   "source": [
    "#                              THIS PART\n",
    "char_pat = re.compile('[A-Z][a-z]{3}')\n",
    "\n",
    "names = 'LeBron James Jr.'\n",
    "\n",
    "print(char_pat.findall(names))"
   ]
  },
  {
   "cell_type": "markdown",
   "metadata": {},
   "source": [
    "##### {x, x} - something that occurs between x and x times"
   ]
  },
  {
   "cell_type": "code",
   "execution_count": 29,
   "metadata": {},
   "outputs": [
    {
     "name": "stdout",
     "output_type": "stream",
     "text": [
      "['Le', 'Bron', 'Jame', 'Jr']\n"
     ]
    }
   ],
   "source": [
    "# a to z occurring between 1 and 3 times\n",
    "char_pat = re.compile('[A-Z][a-z]{1,3}')\n",
    "\n",
    "names = 'LeBron James Jr.'\n",
    "\n",
    "print(char_pat.findall(names))"
   ]
  },
  {
   "cell_type": "markdown",
   "metadata": {},
   "source": [
    "##### ? - something that occurs 0 or 1 time"
   ]
  },
  {
   "cell_type": "code",
   "execution_count": 31,
   "metadata": {},
   "outputs": [
    {
     "name": "stdout",
     "output_type": "stream",
     "text": [
      "['Le', 'Bron', 'Jame', 's', 'Jr']\n"
     ]
    }
   ],
   "source": [
    "# ? means it doesn't have to be there, but it can\n",
    "char_pat = re.compile('[A-Z]?[a-z]{1,3}')\n",
    "\n",
    "names = 'LeBron James Jr.'\n",
    "\n",
    "print(char_pat.findall(names))"
   ]
  },
  {
   "cell_type": "markdown",
   "metadata": {},
   "source": [
    "##### * - something that occurs at least 0 times"
   ]
  },
  {
   "cell_type": "code",
   "execution_count": 32,
   "metadata": {},
   "outputs": [
    {
     "data": {
      "text/plain": [
       "['',\n",
       " '',\n",
       " '',\n",
       " '',\n",
       " '',\n",
       " '',\n",
       " '',\n",
       " '',\n",
       " '',\n",
       " '',\n",
       " '',\n",
       " '',\n",
       " '',\n",
       " '',\n",
       " '',\n",
       " '',\n",
       " '',\n",
       " '',\n",
       " '',\n",
       " '',\n",
       " '1999',\n",
       " '',\n",
       " '',\n",
       " '',\n",
       " '',\n",
       " '',\n",
       " '',\n",
       " '',\n",
       " '',\n",
       " '',\n",
       " '',\n",
       " '',\n",
       " '',\n",
       " '',\n",
       " '',\n",
       " '',\n",
       " '',\n",
       " '',\n",
       " '',\n",
       " '',\n",
       " '',\n",
       " '',\n",
       " '',\n",
       " '',\n",
       " '',\n",
       " '',\n",
       " '',\n",
       " '',\n",
       " '',\n",
       " '',\n",
       " '',\n",
       " '',\n",
       " '',\n",
       " '',\n",
       " '',\n",
       " '',\n",
       " '626',\n",
       " '',\n",
       " '888',\n",
       " '',\n",
       " '8888',\n",
       " '']"
      ]
     },
     "execution_count": 32,
     "metadata": {},
     "output_type": "execute_result"
    }
   ],
   "source": [
    "# every single character is valid - hence all the empty strings in the output\n",
    "pat = re.compile('[0-9]*')\n",
    "\n",
    "string = 'Mr.Carlson lives on 1999 South Real Street.  His number is 626 888 8888'\n",
    "\n",
    "print(pat.findall(string))"
   ]
  },
  {
   "cell_type": "markdown",
   "metadata": {},
   "source": [
    "##### + - something that occurs at least once"
   ]
  },
  {
   "cell_type": "code",
   "execution_count": 33,
   "metadata": {},
   "outputs": [
    {
     "name": "stdout",
     "output_type": "stream",
     "text": [
      "['1999', '626', '888', '8888']\n"
     ]
    }
   ],
   "source": [
    "# finds things of various character sizes\n",
    "\n",
    "pat = re.compile('[0-9]+')\n",
    "\n",
    "string = 'Mr.Carlson lives on 1999 South Real Street.  His number is 626 888 8888'\n",
    "\n",
    "print(pat.findall(string))"
   ]
  },
  {
   "cell_type": "markdown",
   "metadata": {},
   "source": [
    "##### In-class exercise 1: \n",
    "\n",
    "Use a regular expression to find every number in the given string"
   ]
  },
  {
   "cell_type": "code",
   "execution_count": 39,
   "metadata": {},
   "outputs": [
    {
     "name": "stdout",
     "output_type": "stream",
     "text": [
      "['10909090', '1', '2']\n"
     ]
    }
   ],
   "source": [
    "my_string = \"This string has 10909090 numbers, but it is only 1 string. I hope you solve this 2day.\"\n",
    "\n",
    "# add the plus to get all numbers - \n",
    "num_look = re.compile('[0-9]+')\n",
    "\n",
    "print(num_look.findall(my_string))\n",
    "\n",
    "# Output: ['10909090','1','2']\n"
   ]
  },
  {
   "cell_type": "markdown",
   "metadata": {},
   "source": [
    "### Escaping Characters"
   ]
  },
  {
   "cell_type": "markdown",
   "metadata": {},
   "source": [
    "##### \\w - look for any Unicode character<br/>\\W - look for anything that isnt a Unicode character\n",
    "\n",
    "[History on Unicode](http://unicode.org/standard/WhatIsUnicode.html)\n",
    "\n",
    "[More on Unicode Characters](https://en.wikipedia.org/wiki/List_of_Unicode_characters)"
   ]
  },
  {
   "cell_type": "code",
   "execution_count": 45,
   "metadata": {},
   "outputs": [
    {
     "name": "stdout",
     "output_type": "stream",
     "text": [
      "hi\n",
      "there\n",
      "hi\there\n",
      "hi\\there\n",
      "['this', 'is', 'a', 'sentence', 'lets', 'see', 'what', 'matches', '1234']\n",
      "[' ', ' ', ' ', '.. ', ' ', ' ', ' ', '. ']\n"
     ]
    }
   ],
   "source": [
    "print('hi\\nthere')\n",
    "print('hi\\there')\n",
    "print('hi\\\\there')\n",
    "\n",
    "# will look for any unicode (word) character\n",
    "p1 = re.compile('\\w+')\n",
    "p2 = re.compile('\\W+')\n",
    "\n",
    "string = 'this is a sentence.. lets see what matches. 1234'\n",
    "\n",
    "print(p1.findall(string))\n",
    "print(p2.findall(string))"
   ]
  },
  {
   "cell_type": "markdown",
   "metadata": {},
   "source": [
    "##### \\d - look for any digit 0-9<br/>\\D - look for anything that isnt a digit"
   ]
  },
  {
   "cell_type": "code",
   "execution_count": 46,
   "metadata": {},
   "outputs": [
    {
     "name": "stdout",
     "output_type": "stream",
     "text": [
      "['1234']\n",
      "['this is a sentence.. lets see what matches. ']\n"
     ]
    }
   ],
   "source": [
    "p3 = re.compile('\\d+')\n",
    "p4 = re.compile('\\D+')\n",
    "\n",
    "print(p3.findall(string))\n",
    "\n",
    "# matches with one long string until the digits appear\n",
    "print(p4.findall(string))"
   ]
  },
  {
   "cell_type": "markdown",
   "metadata": {},
   "source": [
    "##### \\s - look for any white space<br/>\\S - look for anything that isnt whitespace"
   ]
  },
  {
   "cell_type": "code",
   "execution_count": 47,
   "metadata": {},
   "outputs": [
    {
     "name": "stdout",
     "output_type": "stream",
     "text": [
      "[' ', ' ', ' ', '\\n    ', ' ', ' ', ' ', ' ', '\\n']\n",
      "['This', 'is', 'a', 'paragraph.', 'lets', 'see', 'what', 'matches', ';)']\n"
     ]
    }
   ],
   "source": [
    "paragraph = '''This is a paragraph.\n",
    "    lets see what matches ;)\n",
    "'''\n",
    "\n",
    "p5 = re.compile('\\s+')\n",
    "p6 = re.compile('\\S+')\n",
    "\n",
    "print(p5.findall(paragraph))\n",
    "print(p6.findall(paragraph))"
   ]
  },
  {
   "cell_type": "markdown",
   "metadata": {},
   "source": [
    "##### \\b - look for boundaries or edges of a word<br/>\\B - look for anything that isnt a boundary"
   ]
  },
  {
   "cell_type": "code",
   "execution_count": 50,
   "metadata": {},
   "outputs": [
    {
     "name": "stdout",
     "output_type": "stream",
     "text": [
      "['hello']\n",
      "[]\n"
     ]
    }
   ],
   "source": [
    "# Boundaries are the ends of words - with whitespace next to it\n",
    "\n",
    "string = 'hello world'\n",
    "\n",
    "# The r before stands for 'raw' - literally looking for hello with boundaries\n",
    "\n",
    "p7 = re.compile(r'\\bhello\\b')\n",
    "p8 = re.compile(r'\\Bhello\\B')\n",
    "\n",
    "print(p7.findall(string))\n",
    "print(p8.findall(string))"
   ]
  },
  {
   "cell_type": "markdown",
   "metadata": {},
   "source": [
    "### Grouping"
   ]
  },
  {
   "cell_type": "code",
   "execution_count": 67,
   "metadata": {},
   "outputs": [
    {
     "name": "stdout",
     "output_type": "stream",
     "text": [
      "[('Max', 'Smith'), ('Sam', 'Darnold'), ('LeBron', 'James'), ('Micheal', 'Jordan'), ('Kevin', 'Durant'), ('Patrick', 'McCormick')]\n",
      "['Max Smith', ' aaron rodgers', ' Sam Darnold', 'LeBron James', ' Micheal Jordan', ' Kevin Durant', ' Patrick McCormick']\n",
      "Max Smith\n",
      "Smith\n",
      "('Max', 'Smith')\n",
      "not valid\n",
      "Sam Darnold\n",
      "Darnold\n",
      "('Sam', 'Darnold')\n",
      "LeBron James\n",
      "James\n",
      "('LeBron', 'James')\n",
      "Micheal Jordan\n",
      "Jordan\n",
      "('Micheal', 'Jordan')\n",
      "Kevin Durant\n",
      "Durant\n",
      "('Kevin', 'Durant')\n",
      "Patrick McCormick\n",
      "McCormick\n",
      "('Patrick', 'McCormick')\n"
     ]
    }
   ],
   "source": [
    "my_string_again = \"Max Smith, aaron rodgers, Sam Darnold,LeBron James, Micheal Jordan, Kevin Durant, Patrick McCormick\"\n",
    "\n",
    "# Group of names Regular Expression Compiler\n",
    "# Uses parenthesis\n",
    "\n",
    "#                        lower and upper\n",
    "name_pat = re.compile('(?P<first_name>[A-Z][a-zA-Z]+) (?P<last_name>[A-Z][a-zA-Z]+)')\n",
    "#                       Naming a group                 Naming a group\n",
    "#                           \n",
    "\n",
    "found = name_pat.findall(my_string_again)\n",
    "print(found)\n",
    "\n",
    "names = my_string_again.split(',')\n",
    "print(names)\n",
    "\n",
    "# Does the search for each individual name\n",
    "for name in names:\n",
    "    match = name_pat.search(name)\n",
    "    \n",
    "    if match:\n",
    "        print(match.group())\n",
    "        print(match.group(2))\n",
    "        print(match.groups())\n",
    "    else:\n",
    "        print('not valid')"
   ]
  },
  {
   "cell_type": "markdown",
   "metadata": {},
   "source": [
    "##### In-class Exercise 2:\n",
    "\n",
    "Write a function using regular expressions to find the domain name in the given email addresses (and return None for the invalid email addresses)<br><b>HINT: Use '|' for either or</b>"
   ]
  },
  {
   "cell_type": "code",
   "execution_count": 94,
   "metadata": {},
   "outputs": [
    {
     "name": "stdout",
     "output_type": "stream",
     "text": [
      "None\n",
      "None\n",
      "None\n",
      "None\n",
      "None\n"
     ]
    }
   ],
   "source": [
    "my_emails = [\"shohat@codingcodingsummit.orgcom\", \"pocohontas1776@gmail.com\", \"helloworld@aol..com\",\n",
    "             \"yourfavoriteband@g6.org\", \"@codingsummit.com\"]\n",
    "\n",
    "# You can also use the $ at the end of your compile expression -- this stops the search\n",
    "\n",
    "x = re.compile('[A-Za-z0-9]+ @ [A-Za-z0-9]+ .com|.org')\n",
    "\n",
    "for email in my_emails:\n",
    "    valid = x.match(email)\n",
    "    if valid:\n",
    "        print(valid)\n",
    "    else:\n",
    "        print(None)\n",
    "\n",
    "#Expected output:\n",
    "#None\n",
    "#pocohontas1776@gmail.com\n",
    "#None\n",
    "#yourfavoriteband@g6.org\n",
    "#None\n"
   ]
  },
  {
   "cell_type": "markdown",
   "metadata": {},
   "source": [
    "### Opening a File <br>\n",
    "<p>Python gives us a couple ways to import files, below are the two used most often.</p>"
   ]
  },
  {
   "cell_type": "markdown",
   "metadata": {},
   "source": [
    "##### open()"
   ]
  },
  {
   "cell_type": "code",
   "execution_count": 98,
   "metadata": {},
   "outputs": [
    {
     "name": "stdout",
     "output_type": "stream",
     "text": [
      "Hawkins, Derek\tderek@codingtemple.com\t(555) 555-5555\tTeacher, Coding Temple\t@derekhawkins\n",
      "Zhai, Mo\tmozhai@codingtemple.com\t(555) 555-5554\tTeacher, Coding Temple\n",
      "Johnson, Joe\tjoejohnson@codingtemple.com\t\tJohson, Joe\n",
      "Osterberg, Sven-Erik\tgovernor@norrbotten.co.se\t\tGovernor, Norrbotten\t@sverik\n",
      ", Tim\ttim@killerrabbit.com\t\tEnchanter, Killer Rabbit Cave\n",
      "Butz, Ryan\tryanb@codingtemple.com\t(555) 555-5543\tCEO, Coding Temple\t@ryanbutz\n",
      "Doctor, The\tdoctor+companion@tardis.co.uk\t\tTime Lord, Gallifrey\n",
      "Exampleson, Example\tme@example.com\t555-555-5552\tExample, Example Co.\t@example\n",
      "Pael, Ripal\tripalp@codingtemple.com\t(555) 555-5553\tTeacher, Coding Temple\t@ripalp\n",
      "Vader, Darth\tdarth-vader@empire.gov\t(555) 555-4444\tSith Lord, Galactic Empire\t@darthvader\n",
      "Fernandez de la Vega Sanz, Maria Teresa\tmtfvs@spain.gov\t\tFirst Deputy Prime Minister, Spanish Gov\n",
      "\n"
     ]
    }
   ],
   "source": [
    "# This is a Python function.  No need for the re\n",
    "# Opening a txt file\n",
    "\n",
    "file = open('names.txt')\n",
    "data = file.read()\n",
    "# You must close the file after saving it to avoid writing on the actual file!\n",
    "file.close()\n",
    "\n",
    "print(data)"
   ]
  },
  {
   "cell_type": "markdown",
   "metadata": {},
   "source": [
    "##### with open()"
   ]
  },
  {
   "cell_type": "code",
   "execution_count": 102,
   "metadata": {},
   "outputs": [
    {
     "name": "stdout",
     "output_type": "stream",
     "text": [
      "Hawkins, Derek\tderek@codingtemple.com\t(555) 555-5555\tTeacher, Coding Temple\t@derekhawkins\n",
      "Zhai, Mo\tmozhai@codingtemple.com\t(555) 555-5554\tTeacher, Coding Temple\n",
      "Johnson, Joe\tjoejohnson@codingtemple.com\t\tJohson, Joe\n",
      "Osterberg, Sven-Erik\tgovernor@norrbotten.co.se\t\tGovernor, Norrbotten\t@sverik\n",
      ", Tim\ttim@killerrabbit.com\t\tEnchanter, Killer Rabbit Cave\n",
      "Butz, Ryan\tryanb@codingtemple.com\t(555) 555-5543\tCEO, Coding Temple\t@ryanbutz\n",
      "Doctor, The\tdoctor+companion@tardis.co.uk\t\tTime Lord, Gallifrey\n",
      "Exampleson, Example\tme@example.com\t555-555-5552\tExample, Example Co.\t@example\n",
      "Pael, Ripal\tripalp@codingtemple.com\t(555) 555-5553\tTeacher, Coding Temple\t@ripalp\n",
      "Vader, Darth\tdarth-vader@empire.gov\t(555) 555-4444\tSith Lord, Galactic Empire\t@darthvader\n",
      "Fernandez de la Vega Sanz, Maria Teresa\tmtfvs@spain.gov\t\tFirst Deputy Prime Minister, Spanish Gov\n",
      "\n",
      "done, (file closed)\n"
     ]
    }
   ],
   "source": [
    "with open('names.txt') as file:\n",
    "    data = file.read()\n",
    "    print(data)\n",
    "# with open() automatically closes the file once you leave the code block\n",
    "    \n",
    "print('done, (file closed)')"
   ]
  },
  {
   "cell_type": "markdown",
   "metadata": {},
   "source": [
    "##### re.match()"
   ]
  },
  {
   "cell_type": "code",
   "execution_count": 103,
   "metadata": {},
   "outputs": [
    {
     "name": "stdout",
     "output_type": "stream",
     "text": [
      "<re.Match object; span=(0, 2), match='he'>\n",
      "<re.Match object; span=(0, 2), match='he'>\n"
     ]
    }
   ],
   "source": [
    "pat = re.compile('[a-z]{2}')\n",
    "string = 'hello there!! Happy New Years'\n",
    "res = pat.match(string)\n",
    "\n",
    "\n",
    "# SYNTAX: re.match(pattern, string)\n",
    "\n",
    "res2 = re.match(r'[a-z]{2}', string)\n",
    "\n",
    "print(res)\n",
    "print(res2)"
   ]
  },
  {
   "cell_type": "markdown",
   "metadata": {},
   "source": [
    "##### re.search()"
   ]
  },
  {
   "cell_type": "code",
   "execution_count": 105,
   "metadata": {},
   "outputs": [
    {
     "name": "stdout",
     "output_type": "stream",
     "text": [
      "<re.Match object; span=(0, 2), match='he'>\n"
     ]
    }
   ],
   "source": [
    "res = re.search('[a-z]{2}', string)\n",
    "print(res)"
   ]
  },
  {
   "cell_type": "markdown",
   "metadata": {},
   "source": [
    "##### Store the String to a Variable"
   ]
  },
  {
   "cell_type": "code",
   "execution_count": 108,
   "metadata": {},
   "outputs": [
    {
     "name": "stdout",
     "output_type": "stream",
     "text": [
      "What would you like to search for?  [A-Za-z]+\n",
      "I found your data (0, 7) Hawkins\n"
     ]
    }
   ],
   "source": [
    "answer = input('What would you like to search for?  ')\n",
    "\n",
    "found = re.search(answer, data)\n",
    "\n",
    "if found:\n",
    "    print('I found your data', found.span(), found.group())\n",
    "else: \n",
    "    print('Try again')"
   ]
  },
  {
   "cell_type": "markdown",
   "metadata": {},
   "source": [
    "### In-Class Exercise #3 <br>\n",
    "<p>Print each persons name and twitter handle, using groups, should look like:</p>\n",
    "<p>==============<br>\n",
    "   Full Name / Twitter<br>\n",
    "   ==============</p>\n",
    "Derek Hawkins/@derekhawkins\n",
    "\n",
    "Erik Sven-Osterberg/@sveerik\n",
    "\n",
    "Ryan Butz/@ryanbutz\n",
    "\n",
    "Example Exampleson/@example\n",
    "\n",
    "Ripal Pael/@ripalp\n",
    "\n",
    "Darth Vader/@darthvader"
   ]
  },
  {
   "cell_type": "code",
   "execution_count": 99,
   "metadata": {
    "scrolled": true
   },
   "outputs": [
    {
     "name": "stdout",
     "output_type": "stream",
     "text": [
      "Derek Hawkins /\t@derekhawkins \n",
      "\n",
      "Sven-Erik Osterberg /\t@sverik \n",
      "\n",
      "Ryan Butz /\t@ryanbutz \n",
      "\n",
      "Example Exampleson /\t@example \n",
      "\n",
      "Ripal Pael /\t@ripalp \n",
      "\n",
      "Darth Vader /\t@darthvader \n",
      "\n"
     ]
    }
   ],
   "source": [
    "file = open('names.txt')\n",
    "data = file.readlines()\n",
    "file.close()\n",
    "\n",
    "name_pat = re.compile('(?P<last_name>[A-Z][A-Za-z]+), (?P<first_name>[A-Z][A-Za-z-]+)(?P<else>[\\w\\W]+)(?P<twitter_handle>\\s@[A-Za-z0-9]*)')\n",
    "\n",
    "for name in data:\n",
    "    match = name_pat.match(name)\n",
    "    if match:\n",
    "        print(f'{match.group(\"first_name\")} {match.group(\"last_name\")} /{match.group(\"twitter_handle\")} \\n')\n",
    "    else:\n",
    "        continue\n"
   ]
  },
  {
   "cell_type": "markdown",
   "metadata": {},
   "source": [
    "### Regex project\n",
    "\n",
    "Use python to read the file regex_test.txt and print the last name on each line using regular expressions and groups (return None for names with no first and last name, or names that aren't properly capitalized)\n",
    "##### Hint: use with open() and readlines()"
   ]
  },
  {
   "cell_type": "code",
   "execution_count": 113,
   "metadata": {},
   "outputs": [
    {
     "name": "stdout",
     "output_type": "stream",
     "text": [
      "Abraham Lincoln\n",
      "\n",
      "Andrew P Garfield\n",
      "\n",
      "Connor Milliken\n",
      "\n",
      "Jordan Alexander Williams\n",
      "\n",
      "Madonna\n",
      "\n",
      "None\n"
     ]
    }
   ],
   "source": [
    "\"\"\"\n",
    "Expected Output\n",
    "Abraham Lincoln\n",
    "Andrew P Garfield\n",
    "Connor Milliken\n",
    "Jordan Alexander Williams\n",
    "None\n",
    "None\n",
    "\"\"\"\n",
    "\n",
    "file = open('regex_test.txt')\n",
    "names = file.readlines()\n",
    "file.close()\n",
    "\n",
    "    \n",
    "name_test = re.compile('([A-Z][a-z]+) ([A-Za-z]+)|([A-Z][a-z]+)')\n",
    "\n",
    "for name in names:\n",
    "    valid = name_test.match(name)\n",
    "    if valid:\n",
    "        print(name)\n",
    "    else:\n",
    "        print('None')"
   ]
  },
  {
   "cell_type": "code",
   "execution_count": null,
   "metadata": {},
   "outputs": [],
   "source": []
  }
 ],
 "metadata": {
  "kernelspec": {
   "display_name": "Python 3 (ipykernel)",
   "language": "python",
   "name": "python3"
  },
  "language_info": {
   "codemirror_mode": {
    "name": "ipython",
    "version": 3
   },
   "file_extension": ".py",
   "mimetype": "text/x-python",
   "name": "python",
   "nbconvert_exporter": "python",
   "pygments_lexer": "ipython3",
   "version": "3.9.13"
  }
 },
 "nbformat": 4,
 "nbformat_minor": 2
}
